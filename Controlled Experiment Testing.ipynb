{
 "cells": [
  {
   "cell_type": "code",
   "execution_count": 4,
   "id": "cf863f0b-379c-40e5-8a46-b1ec33869fef",
   "metadata": {},
   "outputs": [],
   "source": [
    "import tensorflow as tf\n",
    "import os\n",
    "import numpy as np\n",
    "from matplotlib import pyplot as plt\n",
    "from tensorflow.keras import layers\n",
    "from tensorflow.keras.applications import ResNet50\n",
    "from tensorflow.keras.models import Model\n",
    "from tensorflow.keras.layers import Conv2D, MaxPooling2D, Dense, Flatten, Dropout\n",
    "from tensorflow.keras import optimizers\n",
    "from tensorflow.keras.models import Sequential\n",
    "from tensorflow.keras import regularizers"
   ]
  },
  {
   "cell_type": "code",
   "execution_count": 5,
   "id": "0a66e18f-1efe-48a7-b73e-3eb2c078870d",
   "metadata": {},
   "outputs": [],
   "source": [
    "from tensorflow.keras.models import load_model"
   ]
  },
  {
   "cell_type": "code",
   "execution_count": 94,
   "id": "1fa01f1d-8a7c-44bb-9a13-91308b4d7282",
   "metadata": {},
   "outputs": [],
   "source": [
    "interpreter = tf.lite.Interpreter(model_path='new/InceptionV3.tflite')\n",
    "interpreter.allocate_tensors()"
   ]
  },
  {
   "cell_type": "code",
   "execution_count": 95,
   "id": "a6fed937-f36e-404d-b164-d80eb2e8b085",
   "metadata": {},
   "outputs": [],
   "source": [
    "input_details = interpreter.get_input_details()\n",
    "output_details = interpreter.get_output_details()"
   ]
  },
  {
   "cell_type": "code",
   "execution_count": 96,
   "id": "13b89ec2-5d09-401e-bd7a-b506b3e3985e",
   "metadata": {},
   "outputs": [
    {
     "name": "stdout",
     "output_type": "stream",
     "text": [
      "Input shape: [  1 224 224   3]\n",
      "Input type: <class 'numpy.float32'>\n",
      "Output shape: [1 1]\n",
      "Output type: <class 'numpy.float32'>\n"
     ]
    }
   ],
   "source": [
    "print(\"Input shape:\", input_details[0]['shape'])\n",
    "print(\"Input type:\", input_details[0]['dtype'])\n",
    "print(\"Output shape:\", output_details[0]['shape'])\n",
    "print(\"Output type:\", output_details[0]['dtype'])\n",
    "input_shape = input_details[0]['shape']\n",
    "input_data = np.array(np.random.random_sample(input_shape), dtype=np.float32)"
   ]
  },
  {
   "cell_type": "code",
   "execution_count": 97,
   "id": "c5e2b71d-3742-4be9-8961-0617c454239c",
   "metadata": {},
   "outputs": [],
   "source": [
    "import cv2"
   ]
  },
  {
   "cell_type": "code",
   "execution_count": 98,
   "id": "1bd50222-23e3-41e9-a671-9221c79674cf",
   "metadata": {
    "scrolled": true
   },
   "outputs": [],
   "source": [
    "def process_image(img_path, interpreter, input_details, output_details, input_shape, threshold=0.5):\n",
    "    img = cv2.imread(img_path)\n",
    "    img = cv2.cvtColor(img, cv2.COLOR_BGR2RGB)  # Convert BGR to RGB\n",
    "    resized_img = cv2.resize(img, (input_shape[1], input_shape[2]))  # Resize to the model's input shape\n",
    "    input_data = np.expand_dims(resized_img, axis=0).astype(np.float32)\n",
    "    input_data /= 255.0  # Normalize pixel values to [0, 1]\n",
    "\n",
    "    interpreter.set_tensor(input_details[0]['index'], input_data)\n",
    "    interpreter.invoke()\n",
    "    output_data = interpreter.get_tensor(output_details[0]['index'])\n",
    "\n",
    "    predicted_class = 'Pure' if output_data[0][0] > threshold else 'Adulterated'\n",
    "    confidence_level = (output_data[0][0] - 0.5) * 2 * 100 if output_data[0][0] > threshold else (0.5 - output_data[0][0]) * 2 * 100\n",
    "    return predicted_class, confidence_level, output_data[0][0]"
   ]
  },
  {
   "cell_type": "code",
   "execution_count": 117,
   "id": "116c5954-d275-4705-816a-b9cf8b5238c1",
   "metadata": {},
   "outputs": [
    {
     "name": "stdout",
     "output_type": "stream",
     "text": [
      "Image: A (1).jpg, Predicted Class: Pure, Confidence Level: 99.27%, Actual Number Predicted: 1.00\n",
      "Image: A (10).jpg, Predicted Class: Pure, Confidence Level: 98.91%, Actual Number Predicted: 0.99\n",
      "Image: A (2).jpg, Predicted Class: Adulterated, Confidence Level: 82.03%, Actual Number Predicted: 0.09\n",
      "Image: A (3).jpg, Predicted Class: Pure, Confidence Level: 99.58%, Actual Number Predicted: 1.00\n",
      "Image: A (4).jpg, Predicted Class: Pure, Confidence Level: 82.35%, Actual Number Predicted: 0.91\n",
      "Image: A (5).jpg, Predicted Class: Pure, Confidence Level: 60.34%, Actual Number Predicted: 0.80\n",
      "Image: A (6).jpg, Predicted Class: Pure, Confidence Level: 99.62%, Actual Number Predicted: 1.00\n",
      "Image: A (7).jpg, Predicted Class: Pure, Confidence Level: 95.69%, Actual Number Predicted: 0.98\n",
      "Image: A (8).jpg, Predicted Class: Pure, Confidence Level: 99.84%, Actual Number Predicted: 1.00\n",
      "Image: A (9).jpg, Predicted Class: Pure, Confidence Level: 99.60%, Actual Number Predicted: 1.00\n",
      "Average Confidence Level for Pure: 92.80%\n",
      "Average Confidence Level for Adulterated: 82.03%\n"
     ]
    }
   ],
   "source": [
    "folder_path = 'new/Pure4g/'\n",
    "pure_confidence_levels = []\n",
    "adulterated_confidence_levels = []\n",
    "\n",
    "for img_name in os.listdir(folder_path):\n",
    "    img_path = os.path.join(folder_path, img_name)\n",
    "    if img_path.endswith(('.png', '.jpg', '.jpeg')):  # Add more extensions if needed\n",
    "        predicted_class, confidence_level, output_value = process_image(img_path, interpreter, input_details, output_details, input_shape)\n",
    "        if predicted_class == 'Pure':\n",
    "            pure_confidence_levels.append(confidence_level)\n",
    "        else:\n",
    "            adulterated_confidence_levels.append(confidence_level)\n",
    "        print(f'Image: {img_name}, Predicted Class: {predicted_class}, Confidence Level: {confidence_level:.2f}%, Actual Number Predicted: {output_value:.2f}')\n",
    "\n",
    "# Calculate the average confidence levels\n",
    "average_pure_confidence = sum(pure_confidence_levels) / len(pure_confidence_levels) if pure_confidence_levels else 0\n",
    "average_adulterated_confidence = sum(adulterated_confidence_levels) / len(adulterated_confidence_levels) if adulterated_confidence_levels else 0\n",
    "\n",
    "print(f'Average Confidence Level for Pure: {average_pure_confidence:.2f}%')\n",
    "print(f'Average Confidence Level for Adulterated: {average_adulterated_confidence:.2f}%')"
   ]
  },
  {
   "cell_type": "code",
   "execution_count": null,
   "id": "0e7283ca-5864-4eb1-84b7-b6582ef228c4",
   "metadata": {},
   "outputs": [],
   "source": []
  }
 ],
 "metadata": {
  "kernelspec": {
   "display_name": "Python 3 (ipykernel)",
   "language": "python",
   "name": "python3"
  },
  "language_info": {
   "codemirror_mode": {
    "name": "ipython",
    "version": 3
   },
   "file_extension": ".py",
   "mimetype": "text/x-python",
   "name": "python",
   "nbconvert_exporter": "python",
   "pygments_lexer": "ipython3",
   "version": "3.10.14"
  }
 },
 "nbformat": 4,
 "nbformat_minor": 5
}
